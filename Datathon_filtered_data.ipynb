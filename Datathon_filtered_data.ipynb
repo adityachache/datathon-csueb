{
 "cells": [
  {
   "cell_type": "code",
   "execution_count": 2,
   "id": "53e75711-f33d-401b-842b-6500a0e4a9a2",
   "metadata": {},
   "outputs": [],
   "source": [
    "# prompt: import python data science libraries\n",
    "\n",
    "import pandas as pd\n",
    "import numpy as np\n",
    "import matplotlib.pyplot as plt\n",
    "import seaborn as sns\n",
    "%matplotlib inline"
   ]
  },
  {
   "cell_type": "code",
   "execution_count": 6,
   "id": "aab459c8-621a-40c1-a126-d5dd7036181d",
   "metadata": {},
   "outputs": [
    {
     "data": {
      "text/html": [
       "<div>\n",
       "<style scoped>\n",
       "    .dataframe tbody tr th:only-of-type {\n",
       "        vertical-align: middle;\n",
       "    }\n",
       "\n",
       "    .dataframe tbody tr th {\n",
       "        vertical-align: top;\n",
       "    }\n",
       "\n",
       "    .dataframe thead th {\n",
       "        text-align: right;\n",
       "    }\n",
       "</style>\n",
       "<table border=\"1\" class=\"dataframe\">\n",
       "  <thead>\n",
       "    <tr style=\"text-align: right;\">\n",
       "      <th></th>\n",
       "      <th>Date</th>\n",
       "      <th>Ticker</th>\n",
       "      <th>Open</th>\n",
       "      <th>High</th>\n",
       "      <th>Low</th>\n",
       "      <th>Close</th>\n",
       "      <th>Volume</th>\n",
       "      <th>Dividends</th>\n",
       "      <th>Stock Splits</th>\n",
       "      <th>CIK</th>\n",
       "      <th>Company Name</th>\n",
       "      <th>countryma</th>\n",
       "      <th>stprma</th>\n",
       "      <th>cityba</th>\n",
       "      <th>zipba</th>\n",
       "      <th>address1</th>\n",
       "      <th>SIC Code</th>\n",
       "      <th>Office</th>\n",
       "      <th>Industry Title</th>\n",
       "    </tr>\n",
       "  </thead>\n",
       "  <tbody>\n",
       "    <tr>\n",
       "      <th>0</th>\n",
       "      <td>1962-01-02</td>\n",
       "      <td>ED</td>\n",
       "      <td>0.0</td>\n",
       "      <td>0.265828</td>\n",
       "      <td>0.261788</td>\n",
       "      <td>0.261788</td>\n",
       "      <td>25600.0</td>\n",
       "      <td>0.0</td>\n",
       "      <td>0.0</td>\n",
       "      <td>1047862</td>\n",
       "      <td>CONSOLIDATED EDISON INC</td>\n",
       "      <td>US</td>\n",
       "      <td>NY</td>\n",
       "      <td>NEW YORK</td>\n",
       "      <td>10003</td>\n",
       "      <td>4 IRVING PLACE</td>\n",
       "      <td>4931</td>\n",
       "      <td>Office of Energy &amp; Transportation</td>\n",
       "      <td>ELECTRIC &amp; OTHER SERVICES COMBINED</td>\n",
       "    </tr>\n",
       "    <tr>\n",
       "      <th>1</th>\n",
       "      <td>1962-01-02</td>\n",
       "      <td>CVX</td>\n",
       "      <td>0.0</td>\n",
       "      <td>0.046809</td>\n",
       "      <td>0.046069</td>\n",
       "      <td>0.046809</td>\n",
       "      <td>105840.0</td>\n",
       "      <td>0.0</td>\n",
       "      <td>0.0</td>\n",
       "      <td>93410</td>\n",
       "      <td>CHEVRON CORP</td>\n",
       "      <td>US</td>\n",
       "      <td>CA</td>\n",
       "      <td>SAN RAMON</td>\n",
       "      <td>94583</td>\n",
       "      <td>6001 BOLLINGER CANYON ROAD</td>\n",
       "      <td>2911</td>\n",
       "      <td>Office of Energy &amp; Transportation</td>\n",
       "      <td>PETROLEUM REFINING</td>\n",
       "    </tr>\n",
       "    <tr>\n",
       "      <th>2</th>\n",
       "      <td>1962-01-02</td>\n",
       "      <td>GD</td>\n",
       "      <td>0.0</td>\n",
       "      <td>0.210033</td>\n",
       "      <td>0.203061</td>\n",
       "      <td>0.208290</td>\n",
       "      <td>2648000.0</td>\n",
       "      <td>0.0</td>\n",
       "      <td>0.0</td>\n",
       "      <td>40533</td>\n",
       "      <td>GENERAL DYNAMICS CORP</td>\n",
       "      <td>US</td>\n",
       "      <td>VA</td>\n",
       "      <td>RESTON</td>\n",
       "      <td>20190</td>\n",
       "      <td>11011 SUNSET HILLS RD</td>\n",
       "      <td>3730</td>\n",
       "      <td>Office of Manufacturing</td>\n",
       "      <td>SHIP &amp; BOAT BUILDING &amp; REPAIRING</td>\n",
       "    </tr>\n",
       "    <tr>\n",
       "      <th>3</th>\n",
       "      <td>1962-01-02</td>\n",
       "      <td>BP</td>\n",
       "      <td>0.0</td>\n",
       "      <td>0.141439</td>\n",
       "      <td>0.139528</td>\n",
       "      <td>0.139528</td>\n",
       "      <td>77440.0</td>\n",
       "      <td>0.0</td>\n",
       "      <td>0.0</td>\n",
       "      <td>313807</td>\n",
       "      <td>BP PLC</td>\n",
       "      <td>GB</td>\n",
       "      <td>NaN</td>\n",
       "      <td>LONDON</td>\n",
       "      <td>SW1Y 4PD</td>\n",
       "      <td>1 ST JAMES'S SQUARE</td>\n",
       "      <td>2911</td>\n",
       "      <td>Office of Energy &amp; Transportation</td>\n",
       "      <td>PETROLEUM REFINING</td>\n",
       "    </tr>\n",
       "    <tr>\n",
       "      <th>4</th>\n",
       "      <td>1962-01-02</td>\n",
       "      <td>MSI</td>\n",
       "      <td>0.0</td>\n",
       "      <td>0.764923</td>\n",
       "      <td>0.745254</td>\n",
       "      <td>0.751810</td>\n",
       "      <td>65671.0</td>\n",
       "      <td>0.0</td>\n",
       "      <td>0.0</td>\n",
       "      <td>68505</td>\n",
       "      <td>Motorola Solutions, Inc.</td>\n",
       "      <td>US</td>\n",
       "      <td>IL</td>\n",
       "      <td>CHICAGO</td>\n",
       "      <td>60661</td>\n",
       "      <td>500 W. MONROE ST.</td>\n",
       "      <td>3663</td>\n",
       "      <td>Office of Manufacturing</td>\n",
       "      <td>RADIO &amp; TV BROADCASTING &amp; COMMUNICATIONS EQUIP...</td>\n",
       "    </tr>\n",
       "  </tbody>\n",
       "</table>\n",
       "</div>"
      ],
      "text/plain": [
       "         Date Ticker  Open      High       Low     Close     Volume  \\\n",
       "0  1962-01-02     ED   0.0  0.265828  0.261788  0.261788    25600.0   \n",
       "1  1962-01-02    CVX   0.0  0.046809  0.046069  0.046809   105840.0   \n",
       "2  1962-01-02     GD   0.0  0.210033  0.203061  0.208290  2648000.0   \n",
       "3  1962-01-02     BP   0.0  0.141439  0.139528  0.139528    77440.0   \n",
       "4  1962-01-02    MSI   0.0  0.764923  0.745254  0.751810    65671.0   \n",
       "\n",
       "   Dividends  Stock Splits      CIK              Company Name countryma  \\\n",
       "0        0.0           0.0  1047862   CONSOLIDATED EDISON INC        US   \n",
       "1        0.0           0.0    93410              CHEVRON CORP        US   \n",
       "2        0.0           0.0    40533     GENERAL DYNAMICS CORP        US   \n",
       "3        0.0           0.0   313807                    BP PLC        GB   \n",
       "4        0.0           0.0    68505  Motorola Solutions, Inc.        US   \n",
       "\n",
       "  stprma     cityba     zipba                    address1  SIC Code  \\\n",
       "0     NY   NEW YORK     10003              4 IRVING PLACE      4931   \n",
       "1     CA  SAN RAMON     94583  6001 BOLLINGER CANYON ROAD      2911   \n",
       "2     VA     RESTON     20190       11011 SUNSET HILLS RD      3730   \n",
       "3    NaN     LONDON  SW1Y 4PD         1 ST JAMES'S SQUARE      2911   \n",
       "4     IL    CHICAGO     60661           500 W. MONROE ST.      3663   \n",
       "\n",
       "                              Office  \\\n",
       "0  Office of Energy & Transportation   \n",
       "1  Office of Energy & Transportation   \n",
       "2            Office of Manufacturing   \n",
       "3  Office of Energy & Transportation   \n",
       "4            Office of Manufacturing   \n",
       "\n",
       "                                      Industry Title  \n",
       "0                 ELECTRIC & OTHER SERVICES COMBINED  \n",
       "1                                 PETROLEUM REFINING  \n",
       "2                   SHIP & BOAT BUILDING & REPAIRING  \n",
       "3                                 PETROLEUM REFINING  \n",
       "4  RADIO & TV BROADCASTING & COMMUNICATIONS EQUIP...  "
      ]
     },
     "execution_count": 6,
     "metadata": {},
     "output_type": "execute_result"
    }
   ],
   "source": [
    "stock_df = pd.read_csv('../archive/all_stock_data_cleaned.csv')\n",
    "stock_df.head()"
   ]
  },
  {
   "cell_type": "code",
   "execution_count": 12,
   "id": "3cb18c66-a210-4520-9a82-0e150a54c4db",
   "metadata": {},
   "outputs": [
    {
     "name": "stdout",
     "output_type": "stream",
     "text": [
      "<class 'pandas.core.frame.DataFrame'>\n",
      "RangeIndex: 26289070 entries, 0 to 26289069\n",
      "Data columns (total 19 columns):\n",
      " #   Column          Dtype         \n",
      "---  ------          -----         \n",
      " 0   Date            datetime64[ns]\n",
      " 1   Ticker          object        \n",
      " 2   Open            float64       \n",
      " 3   High            float64       \n",
      " 4   Low             float64       \n",
      " 5   Close           float64       \n",
      " 6   Volume          float64       \n",
      " 7   Dividends       float64       \n",
      " 8   Stock Splits    float64       \n",
      " 9   CIK             int64         \n",
      " 10  Company Name    object        \n",
      " 11  countryma       object        \n",
      " 12  stprma          object        \n",
      " 13  cityba          object        \n",
      " 14  zipba           object        \n",
      " 15  address1        object        \n",
      " 16  SIC Code        int64         \n",
      " 17  Office          object        \n",
      " 18  Industry Title  object        \n",
      "dtypes: datetime64[ns](1), float64(7), int64(2), object(9)\n",
      "memory usage: 3.7+ GB\n"
     ]
    }
   ],
   "source": [
    "stock_df.info()"
   ]
  },
  {
   "cell_type": "code",
   "execution_count": 10,
   "id": "7d6bf94d-5c7c-45fd-8c50-42a359736756",
   "metadata": {},
   "outputs": [],
   "source": [
    "stock_df['Date'] = pd.to_datetime(stock_df['Date'])"
   ]
  },
  {
   "cell_type": "code",
   "execution_count": 20,
   "id": "7f3dcab5-cce9-44c5-a427-e55601ef8d5a",
   "metadata": {},
   "outputs": [],
   "source": [
    "stock_df_2014_present = stock_df[stock_df['Date'].dt.year >= 2014]"
   ]
  },
  {
   "cell_type": "code",
   "execution_count": 22,
   "id": "1c96bc6a-496f-4fde-872e-23ac4a1848af",
   "metadata": {},
   "outputs": [
    {
     "data": {
      "text/plain": [
       "13013734"
      ]
     },
     "execution_count": 22,
     "metadata": {},
     "output_type": "execute_result"
    }
   ],
   "source": [
    "len(stock_df_2014_present)"
   ]
  },
  {
   "cell_type": "code",
   "execution_count": 24,
   "id": "91c68438-4f29-4e63-bd66-27e91a4ea13c",
   "metadata": {},
   "outputs": [],
   "source": [
    "stock_df_2019_present = stock_df[stock_df['Date'].dt.year >= 2019]"
   ]
  },
  {
   "cell_type": "code",
   "execution_count": 26,
   "id": "30c034ce-971c-4431-86c4-6f593f34857c",
   "metadata": {},
   "outputs": [
    {
     "data": {
      "text/plain": [
       "8219731"
      ]
     },
     "execution_count": 26,
     "metadata": {},
     "output_type": "execute_result"
    }
   ],
   "source": [
    "len(stock_df_2019_present)"
   ]
  },
  {
   "cell_type": "code",
   "execution_count": 28,
   "id": "98a8e3e1-1e58-4916-bd21-5d4cea55eb21",
   "metadata": {},
   "outputs": [],
   "source": [
    "stock_df_2019_present.to_csv('stock_df_2019_present.csv', index=False)"
   ]
  },
  {
   "cell_type": "code",
   "execution_count": 30,
   "id": "4a4af2a9-5963-4c2e-b2d6-764116eb2532",
   "metadata": {},
   "outputs": [
    {
     "data": {
      "text/plain": [
       "array([0.      , 0.17    , 0.18    , ..., 0.217392, 0.6675  , 0.895   ])"
      ]
     },
     "execution_count": 30,
     "metadata": {},
     "output_type": "execute_result"
    }
   ],
   "source": [
    "stock_df_2019_present['Dividends'].unique()"
   ]
  },
  {
   "cell_type": "code",
   "execution_count": null,
   "id": "edf7b0e1-4825-49d8-8210-7fb4763b526c",
   "metadata": {},
   "outputs": [],
   "source": []
  }
 ],
 "metadata": {
  "kernelspec": {
   "display_name": "Python 3 (ipykernel)",
   "language": "python",
   "name": "python3"
  },
  "language_info": {
   "codemirror_mode": {
    "name": "ipython",
    "version": 3
   },
   "file_extension": ".py",
   "mimetype": "text/x-python",
   "name": "python",
   "nbconvert_exporter": "python",
   "pygments_lexer": "ipython3",
   "version": "3.12.4"
  }
 },
 "nbformat": 4,
 "nbformat_minor": 5
}
